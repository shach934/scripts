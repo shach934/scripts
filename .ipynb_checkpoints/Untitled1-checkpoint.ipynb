{
 "cells": [
  {
   "cell_type": "code",
   "execution_count": 46,
   "metadata": {},
   "outputs": [],
   "source": [
    "class test(object):\n",
    "    def __init__(self):\n",
    "        self._a = 1\n",
    "        self._b = 2\n",
    "    def _geta(self):\n",
    "        return self._a\n",
    "    def _geta(self):\n",
    "        return self._a\n",
    "a = test()"
   ]
  },
  {
   "cell_type": "code",
   "execution_count": 53,
   "metadata": {},
   "outputs": [
    {
     "ename": "AttributeError",
     "evalue": "module 'PyQt5.QtGui' has no attribute 'QWidget'",
     "output_type": "error",
     "traceback": [
      "\u001b[1;31m---------------------------------------------------------------------------\u001b[0m",
      "\u001b[1;31mAttributeError\u001b[0m                            Traceback (most recent call last)",
      "\u001b[1;32m<ipython-input-53-527c89fafea7>\u001b[0m in \u001b[0;36m<module>\u001b[1;34m\u001b[0m\n\u001b[0;32m     12\u001b[0m         \u001b[0mself\u001b[0m\u001b[1;33m.\u001b[0m\u001b[0mmessage\u001b[0m\u001b[1;33m.\u001b[0m\u001b[0memit\u001b[0m\u001b[1;33m(\u001b[0m\u001b[0mstr\u001b[0m\u001b[1;33m(\u001b[0m\u001b[0mmessage\u001b[0m\u001b[1;33m)\u001b[0m\u001b[1;33m)\u001b[0m\u001b[1;33m\u001b[0m\u001b[1;33m\u001b[0m\u001b[0m\n\u001b[0;32m     13\u001b[0m \u001b[1;33m\u001b[0m\u001b[0m\n\u001b[1;32m---> 14\u001b[1;33m \u001b[1;32mclass\u001b[0m \u001b[0mMyWindow\u001b[0m\u001b[1;33m(\u001b[0m\u001b[0mQtGui\u001b[0m\u001b[1;33m.\u001b[0m\u001b[0mQWidget\u001b[0m\u001b[1;33m)\u001b[0m\u001b[1;33m:\u001b[0m\u001b[1;33m\u001b[0m\u001b[1;33m\u001b[0m\u001b[0m\n\u001b[0m\u001b[0;32m     15\u001b[0m     \u001b[1;32mdef\u001b[0m \u001b[0m__init__\u001b[0m\u001b[1;33m(\u001b[0m\u001b[0mself\u001b[0m\u001b[1;33m,\u001b[0m \u001b[0mparent\u001b[0m\u001b[1;33m=\u001b[0m\u001b[1;32mNone\u001b[0m\u001b[1;33m)\u001b[0m\u001b[1;33m:\u001b[0m\u001b[1;33m\u001b[0m\u001b[1;33m\u001b[0m\u001b[0m\n\u001b[0;32m     16\u001b[0m         \u001b[0msuper\u001b[0m\u001b[1;33m(\u001b[0m\u001b[0mMyWindow\u001b[0m\u001b[1;33m,\u001b[0m \u001b[0mself\u001b[0m\u001b[1;33m)\u001b[0m\u001b[1;33m.\u001b[0m\u001b[0m__init__\u001b[0m\u001b[1;33m(\u001b[0m\u001b[0mparent\u001b[0m\u001b[1;33m)\u001b[0m\u001b[1;33m\u001b[0m\u001b[1;33m\u001b[0m\u001b[0m\n",
      "\u001b[1;31mAttributeError\u001b[0m: module 'PyQt5.QtGui' has no attribute 'QWidget'"
     ]
    }
   ],
   "source": [
    "#!/usr/bin/env python\n",
    "#-*- coding:utf-8 -*-\n",
    "\n",
    "from PyQt5.QtWidgets import QTextEdit, QWidget\n",
    "\n",
    "class MyStream(QtCore.QObject):\n",
    "    message = QtCore.pyqtSignal(str)\n",
    "    def __init__(self, parent=None):\n",
    "        super(MyStream, self).__init__(parent)\n",
    "\n",
    "    def write(self, message):\n",
    "        self.message.emit(str(message))\n",
    "\n",
    "class MyWindow(QtGui.QWidget):\n",
    "    def __init__(self, parent=None):\n",
    "        super(MyWindow, self).__init__(parent)\n",
    "\n",
    "        self.pushButtonPrint = QtGui.QPushButton(self)\n",
    "        self.pushButtonPrint.setText(\"Click Me!\")\n",
    "        self.pushButtonPrint.clicked.connect(self.on_pushButtonPrint_clicked)\n",
    "\n",
    "        self.textEdit = QtGui.QTextEdit(self)\n",
    "\n",
    "        self.layoutVertical = QtGui.QVBoxLayout(self)\n",
    "        self.layoutVertical.addWidget(self.pushButtonPrint)\n",
    "        self.layoutVertical.addWidget(self.textEdit)\n",
    "\n",
    "    @QtCore.pyqtSlot()\n",
    "    def on_pushButtonPrint_clicked(self):\n",
    "        print(\"Button Clicked!\")\n",
    "\n",
    "    @QtCore.pyqtSlot(str)\n",
    "    def on_myStream_message(self, message):\n",
    "        self.textEdit.moveCursor(QtGui.QTextCursor.End)\n",
    "        self.textEdit.insertPlainText(message)\n",
    "\n",
    "if __name__ == \"__main__\":\n",
    "    import sys\n",
    "\n",
    "    app = QtGui.QApplication(sys.argv)\n",
    "    app.setApplicationName('MyWindow')\n",
    "\n",
    "    main = MyWindow()\n",
    "    main.show()\n",
    "\n",
    "    myStream = MyStream()\n",
    "    myStream.message.connect(main.on_myStream_message)\n",
    "\n",
    "    sys.stdout = myStream        \n",
    "    sys.exit(app.exec_())"
   ]
  },
  {
   "cell_type": "code",
   "execution_count": 38,
   "metadata": {},
   "outputs": [
    {
     "data": {
      "text/plain": [
       "'C:/Shaohui/OpenFoam/radiationTest/air99surf'"
      ]
     },
     "execution_count": 38,
     "metadata": {},
     "output_type": "execute_result"
    }
   ],
   "source": [
    "foam_path"
   ]
  },
  {
   "cell_type": "code",
   "execution_count": 39,
   "metadata": {},
   "outputs": [
    {
     "data": {
      "text/plain": [
       "'C:/Shaohui/OpenFoam/radiationTest'"
      ]
     },
     "execution_count": 39,
     "metadata": {},
     "output_type": "execute_result"
    }
   ],
   "source": [
    "caseFolder"
   ]
  },
  {
   "cell_type": "code",
   "execution_count": 40,
   "metadata": {},
   "outputs": [
    {
     "data": {
      "text/plain": [
       "'air99surf'"
      ]
     },
     "execution_count": 40,
     "metadata": {},
     "output_type": "execute_result"
    }
   ],
   "source": [
    "caseName"
   ]
  },
  {
   "cell_type": "code",
   "execution_count": null,
   "metadata": {},
   "outputs": [],
   "source": []
  }
 ],
 "metadata": {
  "kernelspec": {
   "display_name": "Python 3",
   "language": "python",
   "name": "python3"
  },
  "language_info": {
   "codemirror_mode": {
    "name": "ipython",
    "version": 3
   },
   "file_extension": ".py",
   "mimetype": "text/x-python",
   "name": "python",
   "nbconvert_exporter": "python",
   "pygments_lexer": "ipython3",
   "version": "3.7.4"
  }
 },
 "nbformat": 4,
 "nbformat_minor": 2
}
